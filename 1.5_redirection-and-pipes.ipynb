{
 "cells": [
  {
   "cell_type": "markdown",
   "metadata": {},
   "source": [
    "# 1.5 Redirection and pipes\n",
    "\n",
    "This notebook will demonstrate how to use redirection and pipes to store the outputs of a command in a file and/or to chain commands in a sequence."
   ]
  },
  {
   "cell_type": "markdown",
   "metadata": {},
   "source": [
    "#### How many txt files are in `data/tmp`?\n",
    "```\n",
    "%%bash\n",
    "ls data/tmp/*.txt | wc -l\n",
    "```"
   ]
  },
  {
   "cell_type": "code",
   "execution_count": 1,
   "metadata": {},
   "outputs": [
    {
     "name": "stdout",
     "output_type": "stream",
     "text": [
      "191\n"
     ]
    }
   ],
   "source": [
    "%%bash\n",
    "ls data/tmp/*.txt | wc -l"
   ]
  },
  {
   "cell_type": "markdown",
   "metadata": {},
   "source": [
    "#### save list of txt files in `data/tmp` to a file list, and append the list of files in `data/art`.\n",
    "Find and correct the error...\n",
    "```\n",
    "%%bash\n",
    "ls data/tmp/*.txt > file_list.txt\n",
    "ls data/art > file_list.txt\n",
    "```"
   ]
  },
  {
   "cell_type": "code",
   "execution_count": 14,
   "metadata": {},
   "outputs": [
    {
     "name": "stdout",
     "output_type": "stream",
     "text": [
      "data/tmp/file1.txt\n",
      "data/tmp/file10.txt\n",
      "data/tmp/file100.txt\n",
      "data/tmp/file101.txt\n",
      "data/tmp/file102.txt\n",
      "data/tmp/file103.txt\n",
      "data/tmp/file104.txt\n",
      "data/tmp/file105.txt\n",
      "data/tmp/file106.txt\n",
      "data/tmp/file107.txt\n",
      "data/tmp/file108.txt\n",
      "data/tmp/file109.txt\n",
      "data/tmp/file11.txt\n",
      "data/tmp/file110.txt\n",
      "data/tmp/file111.txt\n",
      "data/tmp/file114.txt\n",
      "data/tmp/file115.txt\n",
      "data/tmp/file116.txt\n",
      "data/tmp/file117.txt\n",
      "data/tmp/file118.txt\n",
      "data/tmp/file119.txt\n",
      "data/tmp/file12.txt\n",
      "data/tmp/file120.txt\n",
      "data/tmp/file121.txt\n",
      "data/tmp/file122.txt\n",
      "data/tmp/file123.txt\n",
      "data/tmp/file124.txt\n",
      "data/tmp/file125.txt\n",
      "data/tmp/file126.txt\n",
      "data/tmp/file127.txt\n",
      "data/tmp/file128.txt\n",
      "data/tmp/file129.txt\n",
      "data/tmp/file13.txt\n",
      "data/tmp/file130.txt\n",
      "data/tmp/file131.txt\n",
      "data/tmp/file132.txt\n",
      "data/tmp/file133.txt\n",
      "data/tmp/file134.txt\n",
      "data/tmp/file135.txt\n",
      "data/tmp/file136.txt\n",
      "data/tmp/file138.txt\n",
      "data/tmp/file139.txt\n",
      "data/tmp/file14.txt\n",
      "data/tmp/file140.txt\n",
      "data/tmp/file141.txt\n",
      "data/tmp/file142.txt\n",
      "data/tmp/file143.txt\n",
      "data/tmp/file144.txt\n",
      "data/tmp/file145.txt\n",
      "data/tmp/file146.txt\n",
      "data/tmp/file147.txt\n",
      "data/tmp/file148.txt\n",
      "data/tmp/file149.txt\n",
      "data/tmp/file15.txt\n",
      "data/tmp/file150.txt\n",
      "data/tmp/file151.txt\n",
      "data/tmp/file152.txt\n",
      "data/tmp/file153.txt\n",
      "data/tmp/file154.txt\n",
      "data/tmp/file155.txt\n",
      "data/tmp/file156.txt\n",
      "data/tmp/file157.txt\n",
      "data/tmp/file158.txt\n",
      "data/tmp/file159.txt\n",
      "data/tmp/file16.txt\n",
      "data/tmp/file160.txt\n",
      "data/tmp/file161.txt\n",
      "data/tmp/file162.txt\n",
      "data/tmp/file163.txt\n",
      "data/tmp/file164.txt\n",
      "data/tmp/file165.txt\n",
      "data/tmp/file166.txt\n",
      "data/tmp/file167.txt\n",
      "data/tmp/file168.txt\n",
      "data/tmp/file169.txt\n",
      "data/tmp/file17.txt\n",
      "data/tmp/file170.txt\n",
      "data/tmp/file171.txt\n",
      "data/tmp/file172.txt\n",
      "data/tmp/file173.txt\n",
      "data/tmp/file174.txt\n",
      "data/tmp/file175.txt\n",
      "data/tmp/file176.txt\n",
      "data/tmp/file177.txt\n",
      "data/tmp/file178.txt\n",
      "data/tmp/file179.txt\n",
      "data/tmp/file18.txt\n",
      "data/tmp/file180.txt\n",
      "data/tmp/file181.txt\n",
      "data/tmp/file182.txt\n",
      "data/tmp/file183.txt\n",
      "data/tmp/file184.txt\n",
      "data/tmp/file185.txt\n",
      "data/tmp/file186.txt\n",
      "data/tmp/file187.txt\n",
      "data/tmp/file188.txt\n",
      "data/tmp/file189.txt\n",
      "data/tmp/file19.txt\n",
      "data/tmp/file190.txt\n",
      "data/tmp/file191.txt\n",
      "data/tmp/file192.txt\n",
      "data/tmp/file193.txt\n",
      "data/tmp/file194.txt\n",
      "data/tmp/file195.txt\n",
      "data/tmp/file196.txt\n",
      "data/tmp/file197.txt\n",
      "data/tmp/file198.txt\n",
      "data/tmp/file199.txt\n",
      "data/tmp/file2.txt\n",
      "data/tmp/file200.txt\n",
      "data/tmp/file21.txt\n",
      "data/tmp/file22.txt\n",
      "data/tmp/file23.txt\n",
      "data/tmp/file24.txt\n",
      "data/tmp/file25.txt\n",
      "data/tmp/file26.txt\n",
      "data/tmp/file27.txt\n",
      "data/tmp/file28.txt\n",
      "data/tmp/file29.txt\n",
      "data/tmp/file3.txt\n",
      "data/tmp/file30.txt\n",
      "data/tmp/file31.txt\n",
      "data/tmp/file32.txt\n",
      "data/tmp/file33.txt\n",
      "data/tmp/file34.txt\n",
      "data/tmp/file35.txt\n",
      "data/tmp/file36.txt\n",
      "data/tmp/file38.txt\n",
      "data/tmp/file39.txt\n",
      "data/tmp/file4.txt\n",
      "data/tmp/file40.txt\n",
      "data/tmp/file41.txt\n",
      "data/tmp/file42.txt\n",
      "data/tmp/file44.txt\n",
      "data/tmp/file45.txt\n",
      "data/tmp/file46.txt\n",
      "data/tmp/file47.txt\n",
      "data/tmp/file48.txt\n",
      "data/tmp/file49.txt\n",
      "data/tmp/file5.txt\n",
      "data/tmp/file50.txt\n",
      "data/tmp/file51.txt\n",
      "data/tmp/file52.txt\n",
      "data/tmp/file53.txt\n",
      "data/tmp/file54.txt\n",
      "data/tmp/file55.txt\n",
      "data/tmp/file56.txt\n",
      "data/tmp/file57.txt\n",
      "data/tmp/file58.txt\n",
      "data/tmp/file59.txt\n",
      "data/tmp/file6.txt\n",
      "data/tmp/file60.txt\n",
      "data/tmp/file61.txt\n",
      "data/tmp/file62.txt\n",
      "data/tmp/file64.txt\n",
      "data/tmp/file65.txt\n",
      "data/tmp/file66.txt\n",
      "data/tmp/file67.txt\n",
      "data/tmp/file68.txt\n",
      "data/tmp/file69.txt\n",
      "data/tmp/file7.txt\n",
      "data/tmp/file70.txt\n",
      "data/tmp/file71.txt\n",
      "data/tmp/file72.txt\n",
      "data/tmp/file73.txt\n",
      "data/tmp/file74.txt\n",
      "data/tmp/file75.txt\n",
      "data/tmp/file76.txt\n",
      "data/tmp/file77.txt\n",
      "data/tmp/file78.txt\n",
      "data/tmp/file79.txt\n",
      "data/tmp/file8.txt\n",
      "data/tmp/file80.txt\n",
      "data/tmp/file81.txt\n",
      "data/tmp/file82.txt\n",
      "data/tmp/file84.txt\n",
      "data/tmp/file85.txt\n",
      "data/tmp/file86.txt\n",
      "data/tmp/file87.txt\n",
      "data/tmp/file88.txt\n",
      "data/tmp/file89.txt\n",
      "data/tmp/file9.txt\n",
      "data/tmp/file90.txt\n",
      "data/tmp/file91.txt\n",
      "data/tmp/file92.txt\n",
      "data/tmp/file93.txt\n",
      "data/tmp/file94.txt\n",
      "data/tmp/file96.txt\n",
      "data/tmp/file97.txt\n",
      "data/tmp/file98.txt\n",
      "data/tmp/file99.txt\n"
     ]
    }
   ],
   "source": [
    "%%bash\n",
    "ls data/tmp/*.txt > file_list.txt\n",
    "mv file_list.txt data/art/\n",
    "less data/art/file_list.txt"
   ]
  },
  {
   "cell_type": "markdown",
   "metadata": {},
   "source": [
    "#### Count the number of painters in `artists.txt` after filtering out the French painters\n",
    "```\n",
    "%%bash\n",
    "grep painter data/art/artists.txt | grep -v 'French painter' | wc -l\n",
    "```"
   ]
  },
  {
   "cell_type": "code",
   "execution_count": 2,
   "metadata": {},
   "outputs": [
    {
     "name": "stdout",
     "output_type": "stream",
     "text": [
      "89\n"
     ]
    }
   ],
   "source": [
    "%%bash\n",
    "grep painter data/art/artists.txt | grep -v 'French painter' | wc -l"
   ]
  },
  {
   "cell_type": "markdown",
   "metadata": {},
   "source": [
    "## Homework"
   ]
  },
  {
   "cell_type": "markdown",
   "metadata": {},
   "source": [
    "### HW1: Count the number of Dutch artists that are not from Amsterdam."
   ]
  },
  {
   "cell_type": "code",
   "execution_count": 3,
   "metadata": {},
   "outputs": [
    {
     "name": "stdout",
     "output_type": "stream",
     "text": [
      "20\n"
     ]
    }
   ],
   "source": [
    "%%bash\n",
    "grep Dutch data/art/artists.txt | grep -v Amsterdam | wc -l"
   ]
  },
  {
   "cell_type": "markdown",
   "metadata": {},
   "source": [
    "### HW2: Sort the Italian painters in `artists.txt` by last name."
   ]
  },
  {
   "cell_type": "code",
   "execution_count": 4,
   "metadata": {},
   "outputs": [
    {
     "name": "stdout",
     "output_type": "stream",
     "text": [
      "ABBATE, Niccolò dell'\t(1509-1571)\tMannerism\tItalian painter (Bologna)\n",
      "ABBATI, Giuseppe\t(1836-1868)\tRealism\tItalian painter\n",
      "ABBATINI, Guido Ubaldo\t(c. 1602-1656)\tBaroque\tItalian painter (Rome)\n",
      "ADEMOLLO, Luigi\t(1764-1849)\tNeoclassicism\tItalian painter (Florence)\n",
      "ALBA, Macrino d'\t(c. 1460-c. 1528)\tEarly Renaissance\tItalian painter (Alba)\n",
      "ALBANI, Francesco\t(1578-1660)\tBaroque\tItalian painter (Bologna)\n",
      "ALBEREGNO, Jacobello\t(died before1397)\tMedieval\tItalian painter (Venice)\n",
      "ALBERTI, Antonio\t(c. 1390-c. 1442)\tEarly Renaissance\tItalian painter (Urbino)\n",
      "ALBERTI, Cherubino\t(1553-1615)\tMannerism\tItalian painter (Rome)\n",
      "ALBERTI, Giovanni\t(1558-1601)\tMannerism\tItalian painter (Rome)\n",
      "ALBERTINELLI, Mariotto\t(1474-1515)\tEarly Renaissance\tItalian painter (Florence)\n",
      "TADDEO DI BARTOLO\t(1362/63-1422)\tMedieval\tItalian painter (Siena)\n",
      "TAMAGNI, Vincenzo\t(1492-1530)\tHigh Renaissance\tItalian painter (San Gimignano)\n",
      "TANZIO DA VARALLO\t(c. 1580-c. 1632)\tBaroque\tItalian painter\n",
      "TARCHIANI, Filippo\t(1576-1645)\tBaroque\tItalian painter (Florence)\n",
      "TARUFFI, Emilio\t(1633-1696)\tBaroque\tItalian painter (Bologna)\n",
      "TASSI, Agostino\t(1578-1644)\tBaroque\tItalian painter (Rome)\n",
      "TEDESCO, Carlo (see SFERINI, Carlo Leopoldo)\t(1652-1698)\tBaroque\tItalian painter (Verona)\n",
      "TEDESCO, Giovanni Paolo (see SCHOR, Johann Paul)\t(1615-1674)\tBaroque\tItalian painter (Rome)\n",
      "TEMPESTA, Antonio\t(1555-1630)\tBaroque\tItalian painter (Florence)\n",
      "TERRENI, Giuseppe Maria\t(1739-1811)\tNeoclassicism\tItalian painter (Livorno)\n",
      "TERZIO, Francesco\t(c. 1523-1591)\tMannerism\tItalian painter (Vienna)\n",
      "TESTA, Pietro\t(1611-1650)\tBaroque\tItalian painter (Rome)\n"
     ]
    }
   ],
   "source": [
    "%%bash\n",
    "grep \"Italian painter\" data/art/artists.txt | sort "
   ]
  },
  {
   "cell_type": "markdown",
   "metadata": {},
   "source": [
    "### HW3: Count how many Italian sculptors are *either* from the Medieval period or the Baroque period."
   ]
  },
  {
   "cell_type": "code",
   "execution_count": 10,
   "metadata": {},
   "outputs": [
    {
     "name": "stdout",
     "output_type": "stream",
     "text": [
      "6\n"
     ]
    }
   ],
   "source": [
    "%%bash\n",
    "grep \"Italian sculptor\" data/art/artists.txt | grep 'Medieval\\|Baroque' | wc -l"
   ]
  },
  {
   "cell_type": "code",
   "execution_count": null,
   "metadata": {},
   "outputs": [],
   "source": []
  }
 ],
 "metadata": {
  "kernelspec": {
   "display_name": "Python 3",
   "language": "python",
   "name": "python3"
  },
  "language_info": {
   "codemirror_mode": {
    "name": "ipython",
    "version": 3
   },
   "file_extension": ".py",
   "mimetype": "text/x-python",
   "name": "python",
   "nbconvert_exporter": "python",
   "pygments_lexer": "ipython3",
   "version": "3.6.5"
  }
 },
 "nbformat": 4,
 "nbformat_minor": 2
}
